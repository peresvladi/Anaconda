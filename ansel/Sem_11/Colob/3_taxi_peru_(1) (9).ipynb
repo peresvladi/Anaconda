{
  "nbformat": 4,
  "nbformat_minor": 0,
  "metadata": {
    "colab": {
      "provenance": []
    },
    "kernelspec": {
      "name": "python3",
      "display_name": "Python 3"
    },
    "language_info": {
      "name": "python"
    }
  },
  "cells": [
    {
      "cell_type": "code",
      "execution_count": 21,
      "metadata": {
        "id": "Gxvo81tUUmtl"
      },
      "outputs": [],
      "source": [
        "import pandas as pd\n",
        "import matplotlib.pyplot as plt\n",
        "%matplotlib inline\n",
        "import seaborn as sns\n"
      ]
    },
    {
      "cell_type": "code",
      "source": [
        "fd"
      ],
      "metadata": {
        "colab": {
          "base_uri": "https://localhost:8080/",
          "height": 834
        },
        "id": "YQXDctmgWEkR",
        "outputId": "7708a549-5ba1-4549-ea08-eccc88312eab"
      },
      "execution_count": 43,
      "outputs": [
        {
          "output_type": "execute_result",
          "data": {
            "text/plain": [
              "                             journey_id                           user_id  \\\n",
              "0      23a1406fc6a11d866e3c82f22eed4d4c  0e9af5bbf1edfe591b54ecdfd7e91e26   \n",
              "1      dd2af4715d0dc16eded53afc0e243577  a553c46e3a22fb9c326aeb3d72b3334e   \n",
              "2      dd91e131888064bf7df3ce08f3d4b4ad  a553c46e3a22fb9c326aeb3d72b3334e   \n",
              "3      dd2af4715d0dc16eded53afc0e2466d0  a553c46e3a22fb9c326aeb3d72b3334e   \n",
              "4      85b7eabcf5d84e42dc7629b7d27781af  56772d544fdfa589a020a1ff894a86f7   \n",
              "...                                 ...                               ...   \n",
              "23106  4a18ea5737ce0ffecaf20b305a0e2c86  8998bb370b5f0cec43a373adebba0c72   \n",
              "23107  f1e4317f2c17991dd90d1cd17ae0d399  5f8a6ffef0ea5df78a8ee890267b60ec   \n",
              "23108  1e44c0fd0a266c3719ff30410b257bce  c0ffb6f6cd801004dd8609c12277c2d1   \n",
              "23109  7073883383b89ad289e864022150cdd7  c0ffb6f6cd801004dd8609c12277c2d1   \n",
              "23110  b7dea45c3cc92b9efd5a4905e69ff9bf  c0ffb6f6cd801004dd8609c12277c2d1   \n",
              "\n",
              "                              driver_id                           taxi_id  \\\n",
              "0      583949a89a9ee17d19e3ca4f137b6b4c  b12f4f09c783e29fe0d0ea624530db56   \n",
              "1                                   NaN                               NaN   \n",
              "2                                   NaN                               NaN   \n",
              "3                                   NaN                               NaN   \n",
              "4      d665fb9f75ef5d9cd0fd89479380ba78  0accdd3aa5a322f4129fa20b53278c69   \n",
              "...                                 ...                               ...   \n",
              "23106  d665fb9f75ef5d9cd0fd89479380ba78  16cbe35db7fff70fbc8251b4cda9fdc9   \n",
              "23107  17c21284245ff240c7212732991c2373  716a697375634f32a06d692b0448f13d   \n",
              "23108  4851ee4c867c9b49b909c1adb76c31e9  4851ee4c867c9b49b909c1adb76c538e   \n",
              "23109  56f59b58bcbbd1cdabc3652e713134c2  924d4f0e7554566623e8ebb3904a7b0c   \n",
              "23110  924d4f0e7554566623e8ebb390491d08  924d4f0e7554566623e8ebb390491492   \n",
              "\n",
              "            icon start_type            start_at     start_lat     start_lon  \\\n",
              "0      executive       asap 2010-11-16 16:44:00  -12,13983536  -77,02355957   \n",
              "1      executive       asap 2010-06-01 00:34:00  -12,13874817  -76,99536133   \n",
              "2      executive       asap 2010-05-31 05:01:00  -12,12453079  -77,02780151   \n",
              "3      executive       asap 2010-06-01 00:29:00  -12,13885117  -76,99530029   \n",
              "4      executive   reserved 2010-09-11 23:55:00  -12,08995438  -76,92626953   \n",
              "...          ...        ...                 ...           ...           ...   \n",
              "23106  executive   reserved 2010-07-31 13:15:00  -12,08974075  -77,04699707   \n",
              "23107  executive       asap 2010-10-02 05:26:00  -12,09253011  -77,02875271   \n",
              "23108  executive       asap 2010-09-21 09:56:00   -12,1275637  -77,02642288   \n",
              "23109  executive   reserved 2010-04-29 04:30:00    -12,019468   -77,1077669   \n",
              "23110  executive       asap 2010-03-16 19:58:00   -12,1334974   -77,0272581   \n",
              "\n",
              "                   end_at       end_lat       end_lon     end_state  \\\n",
              "0     2010-11-16 17:29:00  -12,05537033   -77,0413208      drop off   \n",
              "1     2010-06-01 00:37:00  -12,12465668  -77,02886963     not found   \n",
              "2     2010-05-31 05:04:00  -12,13883209  -76,99530029     not found   \n",
              "3     2010-06-01 00:32:00  -12,12458801  -77,02896118     not found   \n",
              "4     2010-09-12 01:07:00  -12,02223206  -77,10638428      drop off   \n",
              "...                   ...           ...           ...           ...   \n",
              "23106 2010-07-31 13:27:00  -12,08352661  -77,05044556      drop off   \n",
              "23107 2010-10-02 05:56:00  -12,07776001  -77,05623798      drop off   \n",
              "23108 2010-09-21 10:18:00  -12,10529838  -77,04735249      drop off   \n",
              "23109 2010-04-29 05:11:00  -12,09909987  -77,03475013      drop off   \n",
              "23110 2010-03-16 20:02:00    -12,029174     -76,93977  rider cancel   \n",
              "\n",
              "      driver_start_lat driver_start_lon          arrived_at   source  \\\n",
              "0         -12,10825481      -77,0272739 2010-11-16 17:02:00   iPhone   \n",
              "1                  NaN              NaN                 NaT   iPhone   \n",
              "2                  NaN              NaN                 NaT   iPhone   \n",
              "3                  NaN              NaN                 NaT   iPhone   \n",
              "4         -12,08311558      -76,9277072 2010-09-11 23:50:00   iPhone   \n",
              "...                ...              ...                 ...      ...   \n",
              "23106     -12,08973527     -77,04787016 2010-07-31 13:15:00   iPhone   \n",
              "23107     -12,10639693     -77,04028948 2010-10-02 05:39:00  Android   \n",
              "23108     -12,12605017     -77,01882491 2010-09-21 10:05:00  Android   \n",
              "23109      -12,0710933     -77,09855131 2010-04-29 04:23:00  Android   \n",
              "23110     -12,09586711     -77,07372552                 NaT      web   \n",
              "\n",
              "       driver_score  rider_score  \n",
              "0               5.0          5.0  \n",
              "1               NaN          NaN  \n",
              "2               NaN          NaN  \n",
              "3               NaN          NaN  \n",
              "4               4.0          5.0  \n",
              "...             ...          ...  \n",
              "23106           5.0          5.0  \n",
              "23107           NaN          5.0  \n",
              "23108           0.0          0.0  \n",
              "23109           NaN          5.0  \n",
              "23110           NaN          NaN  \n",
              "\n",
              "[23111 rows x 19 columns]"
            ],
            "text/html": [
              "\n",
              "  <div id=\"df-0ade8243-4745-4fae-9f27-72bdb462a525\">\n",
              "    <div class=\"colab-df-container\">\n",
              "      <div>\n",
              "<style scoped>\n",
              "    .dataframe tbody tr th:only-of-type {\n",
              "        vertical-align: middle;\n",
              "    }\n",
              "\n",
              "    .dataframe tbody tr th {\n",
              "        vertical-align: top;\n",
              "    }\n",
              "\n",
              "    .dataframe thead th {\n",
              "        text-align: right;\n",
              "    }\n",
              "</style>\n",
              "<table border=\"1\" class=\"dataframe\">\n",
              "  <thead>\n",
              "    <tr style=\"text-align: right;\">\n",
              "      <th></th>\n",
              "      <th>journey_id</th>\n",
              "      <th>user_id</th>\n",
              "      <th>driver_id</th>\n",
              "      <th>taxi_id</th>\n",
              "      <th>icon</th>\n",
              "      <th>start_type</th>\n",
              "      <th>start_at</th>\n",
              "      <th>start_lat</th>\n",
              "      <th>start_lon</th>\n",
              "      <th>end_at</th>\n",
              "      <th>end_lat</th>\n",
              "      <th>end_lon</th>\n",
              "      <th>end_state</th>\n",
              "      <th>driver_start_lat</th>\n",
              "      <th>driver_start_lon</th>\n",
              "      <th>arrived_at</th>\n",
              "      <th>source</th>\n",
              "      <th>driver_score</th>\n",
              "      <th>rider_score</th>\n",
              "    </tr>\n",
              "  </thead>\n",
              "  <tbody>\n",
              "    <tr>\n",
              "      <th>0</th>\n",
              "      <td>23a1406fc6a11d866e3c82f22eed4d4c</td>\n",
              "      <td>0e9af5bbf1edfe591b54ecdfd7e91e26</td>\n",
              "      <td>583949a89a9ee17d19e3ca4f137b6b4c</td>\n",
              "      <td>b12f4f09c783e29fe0d0ea624530db56</td>\n",
              "      <td>executive</td>\n",
              "      <td>asap</td>\n",
              "      <td>2010-11-16 16:44:00</td>\n",
              "      <td>-12,13983536</td>\n",
              "      <td>-77,02355957</td>\n",
              "      <td>2010-11-16 17:29:00</td>\n",
              "      <td>-12,05537033</td>\n",
              "      <td>-77,0413208</td>\n",
              "      <td>drop off</td>\n",
              "      <td>-12,10825481</td>\n",
              "      <td>-77,0272739</td>\n",
              "      <td>2010-11-16 17:02:00</td>\n",
              "      <td>iPhone</td>\n",
              "      <td>5.0</td>\n",
              "      <td>5.0</td>\n",
              "    </tr>\n",
              "    <tr>\n",
              "      <th>1</th>\n",
              "      <td>dd2af4715d0dc16eded53afc0e243577</td>\n",
              "      <td>a553c46e3a22fb9c326aeb3d72b3334e</td>\n",
              "      <td>NaN</td>\n",
              "      <td>NaN</td>\n",
              "      <td>executive</td>\n",
              "      <td>asap</td>\n",
              "      <td>2010-06-01 00:34:00</td>\n",
              "      <td>-12,13874817</td>\n",
              "      <td>-76,99536133</td>\n",
              "      <td>2010-06-01 00:37:00</td>\n",
              "      <td>-12,12465668</td>\n",
              "      <td>-77,02886963</td>\n",
              "      <td>not found</td>\n",
              "      <td>NaN</td>\n",
              "      <td>NaN</td>\n",
              "      <td>NaT</td>\n",
              "      <td>iPhone</td>\n",
              "      <td>NaN</td>\n",
              "      <td>NaN</td>\n",
              "    </tr>\n",
              "    <tr>\n",
              "      <th>2</th>\n",
              "      <td>dd91e131888064bf7df3ce08f3d4b4ad</td>\n",
              "      <td>a553c46e3a22fb9c326aeb3d72b3334e</td>\n",
              "      <td>NaN</td>\n",
              "      <td>NaN</td>\n",
              "      <td>executive</td>\n",
              "      <td>asap</td>\n",
              "      <td>2010-05-31 05:01:00</td>\n",
              "      <td>-12,12453079</td>\n",
              "      <td>-77,02780151</td>\n",
              "      <td>2010-05-31 05:04:00</td>\n",
              "      <td>-12,13883209</td>\n",
              "      <td>-76,99530029</td>\n",
              "      <td>not found</td>\n",
              "      <td>NaN</td>\n",
              "      <td>NaN</td>\n",
              "      <td>NaT</td>\n",
              "      <td>iPhone</td>\n",
              "      <td>NaN</td>\n",
              "      <td>NaN</td>\n",
              "    </tr>\n",
              "    <tr>\n",
              "      <th>3</th>\n",
              "      <td>dd2af4715d0dc16eded53afc0e2466d0</td>\n",
              "      <td>a553c46e3a22fb9c326aeb3d72b3334e</td>\n",
              "      <td>NaN</td>\n",
              "      <td>NaN</td>\n",
              "      <td>executive</td>\n",
              "      <td>asap</td>\n",
              "      <td>2010-06-01 00:29:00</td>\n",
              "      <td>-12,13885117</td>\n",
              "      <td>-76,99530029</td>\n",
              "      <td>2010-06-01 00:32:00</td>\n",
              "      <td>-12,12458801</td>\n",
              "      <td>-77,02896118</td>\n",
              "      <td>not found</td>\n",
              "      <td>NaN</td>\n",
              "      <td>NaN</td>\n",
              "      <td>NaT</td>\n",
              "      <td>iPhone</td>\n",
              "      <td>NaN</td>\n",
              "      <td>NaN</td>\n",
              "    </tr>\n",
              "    <tr>\n",
              "      <th>4</th>\n",
              "      <td>85b7eabcf5d84e42dc7629b7d27781af</td>\n",
              "      <td>56772d544fdfa589a020a1ff894a86f7</td>\n",
              "      <td>d665fb9f75ef5d9cd0fd89479380ba78</td>\n",
              "      <td>0accdd3aa5a322f4129fa20b53278c69</td>\n",
              "      <td>executive</td>\n",
              "      <td>reserved</td>\n",
              "      <td>2010-09-11 23:55:00</td>\n",
              "      <td>-12,08995438</td>\n",
              "      <td>-76,92626953</td>\n",
              "      <td>2010-09-12 01:07:00</td>\n",
              "      <td>-12,02223206</td>\n",
              "      <td>-77,10638428</td>\n",
              "      <td>drop off</td>\n",
              "      <td>-12,08311558</td>\n",
              "      <td>-76,9277072</td>\n",
              "      <td>2010-09-11 23:50:00</td>\n",
              "      <td>iPhone</td>\n",
              "      <td>4.0</td>\n",
              "      <td>5.0</td>\n",
              "    </tr>\n",
              "    <tr>\n",
              "      <th>...</th>\n",
              "      <td>...</td>\n",
              "      <td>...</td>\n",
              "      <td>...</td>\n",
              "      <td>...</td>\n",
              "      <td>...</td>\n",
              "      <td>...</td>\n",
              "      <td>...</td>\n",
              "      <td>...</td>\n",
              "      <td>...</td>\n",
              "      <td>...</td>\n",
              "      <td>...</td>\n",
              "      <td>...</td>\n",
              "      <td>...</td>\n",
              "      <td>...</td>\n",
              "      <td>...</td>\n",
              "      <td>...</td>\n",
              "      <td>...</td>\n",
              "      <td>...</td>\n",
              "      <td>...</td>\n",
              "    </tr>\n",
              "    <tr>\n",
              "      <th>23106</th>\n",
              "      <td>4a18ea5737ce0ffecaf20b305a0e2c86</td>\n",
              "      <td>8998bb370b5f0cec43a373adebba0c72</td>\n",
              "      <td>d665fb9f75ef5d9cd0fd89479380ba78</td>\n",
              "      <td>16cbe35db7fff70fbc8251b4cda9fdc9</td>\n",
              "      <td>executive</td>\n",
              "      <td>reserved</td>\n",
              "      <td>2010-07-31 13:15:00</td>\n",
              "      <td>-12,08974075</td>\n",
              "      <td>-77,04699707</td>\n",
              "      <td>2010-07-31 13:27:00</td>\n",
              "      <td>-12,08352661</td>\n",
              "      <td>-77,05044556</td>\n",
              "      <td>drop off</td>\n",
              "      <td>-12,08973527</td>\n",
              "      <td>-77,04787016</td>\n",
              "      <td>2010-07-31 13:15:00</td>\n",
              "      <td>iPhone</td>\n",
              "      <td>5.0</td>\n",
              "      <td>5.0</td>\n",
              "    </tr>\n",
              "    <tr>\n",
              "      <th>23107</th>\n",
              "      <td>f1e4317f2c17991dd90d1cd17ae0d399</td>\n",
              "      <td>5f8a6ffef0ea5df78a8ee890267b60ec</td>\n",
              "      <td>17c21284245ff240c7212732991c2373</td>\n",
              "      <td>716a697375634f32a06d692b0448f13d</td>\n",
              "      <td>executive</td>\n",
              "      <td>asap</td>\n",
              "      <td>2010-10-02 05:26:00</td>\n",
              "      <td>-12,09253011</td>\n",
              "      <td>-77,02875271</td>\n",
              "      <td>2010-10-02 05:56:00</td>\n",
              "      <td>-12,07776001</td>\n",
              "      <td>-77,05623798</td>\n",
              "      <td>drop off</td>\n",
              "      <td>-12,10639693</td>\n",
              "      <td>-77,04028948</td>\n",
              "      <td>2010-10-02 05:39:00</td>\n",
              "      <td>Android</td>\n",
              "      <td>NaN</td>\n",
              "      <td>5.0</td>\n",
              "    </tr>\n",
              "    <tr>\n",
              "      <th>23108</th>\n",
              "      <td>1e44c0fd0a266c3719ff30410b257bce</td>\n",
              "      <td>c0ffb6f6cd801004dd8609c12277c2d1</td>\n",
              "      <td>4851ee4c867c9b49b909c1adb76c31e9</td>\n",
              "      <td>4851ee4c867c9b49b909c1adb76c538e</td>\n",
              "      <td>executive</td>\n",
              "      <td>asap</td>\n",
              "      <td>2010-09-21 09:56:00</td>\n",
              "      <td>-12,1275637</td>\n",
              "      <td>-77,02642288</td>\n",
              "      <td>2010-09-21 10:18:00</td>\n",
              "      <td>-12,10529838</td>\n",
              "      <td>-77,04735249</td>\n",
              "      <td>drop off</td>\n",
              "      <td>-12,12605017</td>\n",
              "      <td>-77,01882491</td>\n",
              "      <td>2010-09-21 10:05:00</td>\n",
              "      <td>Android</td>\n",
              "      <td>0.0</td>\n",
              "      <td>0.0</td>\n",
              "    </tr>\n",
              "    <tr>\n",
              "      <th>23109</th>\n",
              "      <td>7073883383b89ad289e864022150cdd7</td>\n",
              "      <td>c0ffb6f6cd801004dd8609c12277c2d1</td>\n",
              "      <td>56f59b58bcbbd1cdabc3652e713134c2</td>\n",
              "      <td>924d4f0e7554566623e8ebb3904a7b0c</td>\n",
              "      <td>executive</td>\n",
              "      <td>reserved</td>\n",
              "      <td>2010-04-29 04:30:00</td>\n",
              "      <td>-12,019468</td>\n",
              "      <td>-77,1077669</td>\n",
              "      <td>2010-04-29 05:11:00</td>\n",
              "      <td>-12,09909987</td>\n",
              "      <td>-77,03475013</td>\n",
              "      <td>drop off</td>\n",
              "      <td>-12,0710933</td>\n",
              "      <td>-77,09855131</td>\n",
              "      <td>2010-04-29 04:23:00</td>\n",
              "      <td>Android</td>\n",
              "      <td>NaN</td>\n",
              "      <td>5.0</td>\n",
              "    </tr>\n",
              "    <tr>\n",
              "      <th>23110</th>\n",
              "      <td>b7dea45c3cc92b9efd5a4905e69ff9bf</td>\n",
              "      <td>c0ffb6f6cd801004dd8609c12277c2d1</td>\n",
              "      <td>924d4f0e7554566623e8ebb390491d08</td>\n",
              "      <td>924d4f0e7554566623e8ebb390491492</td>\n",
              "      <td>executive</td>\n",
              "      <td>asap</td>\n",
              "      <td>2010-03-16 19:58:00</td>\n",
              "      <td>-12,1334974</td>\n",
              "      <td>-77,0272581</td>\n",
              "      <td>2010-03-16 20:02:00</td>\n",
              "      <td>-12,029174</td>\n",
              "      <td>-76,93977</td>\n",
              "      <td>rider cancel</td>\n",
              "      <td>-12,09586711</td>\n",
              "      <td>-77,07372552</td>\n",
              "      <td>NaT</td>\n",
              "      <td>web</td>\n",
              "      <td>NaN</td>\n",
              "      <td>NaN</td>\n",
              "    </tr>\n",
              "  </tbody>\n",
              "</table>\n",
              "<p>23111 rows × 19 columns</p>\n",
              "</div>\n",
              "      <button class=\"colab-df-convert\" onclick=\"convertToInteractive('df-0ade8243-4745-4fae-9f27-72bdb462a525')\"\n",
              "              title=\"Convert this dataframe to an interactive table.\"\n",
              "              style=\"display:none;\">\n",
              "        \n",
              "  <svg xmlns=\"http://www.w3.org/2000/svg\" height=\"24px\"viewBox=\"0 0 24 24\"\n",
              "       width=\"24px\">\n",
              "    <path d=\"M0 0h24v24H0V0z\" fill=\"none\"/>\n",
              "    <path d=\"M18.56 5.44l.94 2.06.94-2.06 2.06-.94-2.06-.94-.94-2.06-.94 2.06-2.06.94zm-11 1L8.5 8.5l.94-2.06 2.06-.94-2.06-.94L8.5 2.5l-.94 2.06-2.06.94zm10 10l.94 2.06.94-2.06 2.06-.94-2.06-.94-.94-2.06-.94 2.06-2.06.94z\"/><path d=\"M17.41 7.96l-1.37-1.37c-.4-.4-.92-.59-1.43-.59-.52 0-1.04.2-1.43.59L10.3 9.45l-7.72 7.72c-.78.78-.78 2.05 0 2.83L4 21.41c.39.39.9.59 1.41.59.51 0 1.02-.2 1.41-.59l7.78-7.78 2.81-2.81c.8-.78.8-2.07 0-2.86zM5.41 20L4 18.59l7.72-7.72 1.47 1.35L5.41 20z\"/>\n",
              "  </svg>\n",
              "      </button>\n",
              "      \n",
              "  <style>\n",
              "    .colab-df-container {\n",
              "      display:flex;\n",
              "      flex-wrap:wrap;\n",
              "      gap: 12px;\n",
              "    }\n",
              "\n",
              "    .colab-df-convert {\n",
              "      background-color: #E8F0FE;\n",
              "      border: none;\n",
              "      border-radius: 50%;\n",
              "      cursor: pointer;\n",
              "      display: none;\n",
              "      fill: #1967D2;\n",
              "      height: 32px;\n",
              "      padding: 0 0 0 0;\n",
              "      width: 32px;\n",
              "    }\n",
              "\n",
              "    .colab-df-convert:hover {\n",
              "      background-color: #E2EBFA;\n",
              "      box-shadow: 0px 1px 2px rgba(60, 64, 67, 0.3), 0px 1px 3px 1px rgba(60, 64, 67, 0.15);\n",
              "      fill: #174EA6;\n",
              "    }\n",
              "\n",
              "    [theme=dark] .colab-df-convert {\n",
              "      background-color: #3B4455;\n",
              "      fill: #D2E3FC;\n",
              "    }\n",
              "\n",
              "    [theme=dark] .colab-df-convert:hover {\n",
              "      background-color: #434B5C;\n",
              "      box-shadow: 0px 1px 3px 1px rgba(0, 0, 0, 0.15);\n",
              "      filter: drop-shadow(0px 1px 2px rgba(0, 0, 0, 0.3));\n",
              "      fill: #FFFFFF;\n",
              "    }\n",
              "  </style>\n",
              "\n",
              "      <script>\n",
              "        const buttonEl =\n",
              "          document.querySelector('#df-0ade8243-4745-4fae-9f27-72bdb462a525 button.colab-df-convert');\n",
              "        buttonEl.style.display =\n",
              "          google.colab.kernel.accessAllowed ? 'block' : 'none';\n",
              "\n",
              "        async function convertToInteractive(key) {\n",
              "          const element = document.querySelector('#df-0ade8243-4745-4fae-9f27-72bdb462a525');\n",
              "          const dataTable =\n",
              "            await google.colab.kernel.invokeFunction('convertToInteractive',\n",
              "                                                     [key], {});\n",
              "          if (!dataTable) return;\n",
              "\n",
              "          const docLinkHtml = 'Like what you see? Visit the ' +\n",
              "            '<a target=\"_blank\" href=https://colab.research.google.com/notebooks/data_table.ipynb>data table notebook</a>'\n",
              "            + ' to learn more about interactive tables.';\n",
              "          element.innerHTML = '';\n",
              "          dataTable['output_type'] = 'display_data';\n",
              "          await google.colab.output.renderOutput(dataTable, element);\n",
              "          const docLink = document.createElement('div');\n",
              "          docLink.innerHTML = docLinkHtml;\n",
              "          element.appendChild(docLink);\n",
              "        }\n",
              "      </script>\n",
              "    </div>\n",
              "  </div>\n",
              "  "
            ]
          },
          "metadata": {},
          "execution_count": 43
        }
      ]
    },
    {
      "cell_type": "code",
      "source": [
        "fd = pd.read_csv('3_taxi_peru (1).csv', sep = ';', parse_dates=['start_at', 'end_at', 'arrived_at'])"
      ],
      "metadata": {
        "id": "KOX9KFvxqoHX"
      },
      "execution_count": 42,
      "outputs": []
    },
    {
      "cell_type": "code",
      "source": [
        "fd.info()"
      ],
      "metadata": {
        "colab": {
          "base_uri": "https://localhost:8080/"
        },
        "id": "77I7pCPpcPMI",
        "outputId": "60bd3d22-571c-4af1-dc3c-3f52ab5a23d0"
      },
      "execution_count": 44,
      "outputs": [
        {
          "output_type": "stream",
          "name": "stdout",
          "text": [
            "<class 'pandas.core.frame.DataFrame'>\n",
            "RangeIndex: 23111 entries, 0 to 23110\n",
            "Data columns (total 19 columns):\n",
            " #   Column            Non-Null Count  Dtype         \n",
            "---  ------            --------------  -----         \n",
            " 0   journey_id        23111 non-null  object        \n",
            " 1   user_id           23111 non-null  object        \n",
            " 2   driver_id         19726 non-null  object        \n",
            " 3   taxi_id           19726 non-null  object        \n",
            " 4   icon              23111 non-null  object        \n",
            " 5   start_type        23111 non-null  object        \n",
            " 6   start_at          23111 non-null  datetime64[ns]\n",
            " 7   start_lat         23111 non-null  object        \n",
            " 8   start_lon         23111 non-null  object        \n",
            " 9   end_at            22835 non-null  datetime64[ns]\n",
            " 10  end_lat           23111 non-null  object        \n",
            " 11  end_lon           23111 non-null  object        \n",
            " 12  end_state         23099 non-null  object        \n",
            " 13  driver_start_lat  19621 non-null  object        \n",
            " 14  driver_start_lon  19621 non-null  object        \n",
            " 15  arrived_at        17716 non-null  datetime64[ns]\n",
            " 16  source            22988 non-null  object        \n",
            " 17  driver_score      7650 non-null   float64       \n",
            " 18  rider_score       15390 non-null  float64       \n",
            "dtypes: datetime64[ns](3), float64(2), object(14)\n",
            "memory usage: 3.4+ MB\n"
          ]
        }
      ]
    },
    {
      "cell_type": "code",
      "source": [
        "fd.dtypes"
      ],
      "metadata": {
        "colab": {
          "base_uri": "https://localhost:8080/"
        },
        "id": "ivpg-qKwctdo",
        "outputId": "a9b843e8-3316-4ab9-d88f-ca144cbea902"
      },
      "execution_count": 55,
      "outputs": [
        {
          "output_type": "execute_result",
          "data": {
            "text/plain": [
              "journey_id                  object\n",
              "user_id                     object\n",
              "driver_id                   object\n",
              "taxi_id                     object\n",
              "icon                        object\n",
              "start_type                  object\n",
              "start_at            datetime64[ns]\n",
              "start_lat                   object\n",
              "start_lon                   object\n",
              "end_at              datetime64[ns]\n",
              "end_lat                     object\n",
              "end_lon                     object\n",
              "end_state                   object\n",
              "driver_start_lat            object\n",
              "driver_start_lon            object\n",
              "arrived_at          datetime64[ns]\n",
              "source                      object\n",
              "driver_score               float64\n",
              "rider_score                float64\n",
              "dtype: object"
            ]
          },
          "metadata": {},
          "execution_count": 55
        }
      ]
    },
    {
      "cell_type": "code",
      "source": [
        "fd.source.value_counts(normalize=True).mul(100).round(2)"
      ],
      "metadata": {
        "colab": {
          "base_uri": "https://localhost:8080/"
        },
        "id": "mM_bpK1EfEz3",
        "outputId": "71bbd861-b08b-4391-d337-010e6bc9972c"
      },
      "execution_count": 63,
      "outputs": [
        {
          "output_type": "execute_result",
          "data": {
            "text/plain": [
              "iPhone     42.37\n",
              "web        33.20\n",
              "Android    21.35\n",
              "iPad        2.48\n",
              "Wap         0.59\n",
              "Name: source, dtype: float64"
            ]
          },
          "metadata": {},
          "execution_count": 63
        }
      ]
    },
    {
      "cell_type": "code",
      "source": [
        "v_taxi = fd.groupby('source', as_index = False).agg({'user_id':'count'}).sort_values('user_id', ascending =False)\\\n",
        "  .rename(columns = {'user_id' : 'piple'})"
      ],
      "metadata": {
        "id": "lpsXovcxgcyL"
      },
      "execution_count": 108,
      "outputs": []
    },
    {
      "cell_type": "code",
      "source": [
        "sns.countplot(fd.source)"
      ],
      "metadata": {
        "colab": {
          "base_uri": "https://localhost:8080/",
          "height": 351
        },
        "id": "l-yf7W8J_EpW",
        "outputId": "8d272ff1-a3f8-4c6b-aa43-3b1fac27dffc"
      },
      "execution_count": 100,
      "outputs": [
        {
          "output_type": "stream",
          "name": "stderr",
          "text": [
            "/usr/local/lib/python3.8/dist-packages/seaborn/_decorators.py:36: FutureWarning: Pass the following variable as a keyword arg: x. From version 0.12, the only valid positional argument will be `data`, and passing other arguments without an explicit keyword will result in an error or misinterpretation.\n",
            "  warnings.warn(\n"
          ]
        },
        {
          "output_type": "execute_result",
          "data": {
            "text/plain": [
              "<matplotlib.axes._subplots.AxesSubplot at 0x7f272216fd90>"
            ]
          },
          "metadata": {},
          "execution_count": 100
        },
        {
          "output_type": "display_data",
          "data": {
            "text/plain": [
              "<Figure size 432x288 with 1 Axes>"
            ],
            "image/png": "[encoded data removed]"
          },
          "metadata": {
            "needs_background": "light"
          }
        }
      ]
    },
    {
      "cell_type": "code",
      "source": [
        "sns.barplot(data = v_taxi, x = 'source', y = 'piple')"
      ],
      "metadata": {
        "colab": {
          "base_uri": "https://localhost:8080/",
          "height": 296
        },
        "id": "bnIiaLrK2maz",
        "outputId": "640eab50-f9dc-459f-b821-9295526ce8ca"
      },
      "execution_count": 90,
      "outputs": [
        {
          "output_type": "execute_result",
          "data": {
            "text/plain": [
              "<matplotlib.axes._subplots.AxesSubplot at 0x7f2721c874f0>"
            ]
          },
          "metadata": {},
          "execution_count": 90
        },
        {
          "output_type": "display_data",
          "data": {
            "text/plain": [
              "<Figure size 432x288 with 1 Axes>"
            ],
            "image/png": "[encoded data removed]"
          },
          "metadata": {
            "needs_background": "light"
          }
        }
      ]
    },
    {
      "cell_type": "code",
      "source": [
        "sns.countplot(fd.end_state)"
      ],
      "metadata": {
        "colab": {
          "base_uri": "https://localhost:8080/",
          "height": 352
        },
        "id": "02C2gjyfDhXu",
        "outputId": "7dc68fa5-b235-47f7-ece7-85b3e5f3a630"
      },
      "execution_count": 101,
      "outputs": [
        {
          "output_type": "stream",
          "name": "stderr",
          "text": [
            "/usr/local/lib/python3.8/dist-packages/seaborn/_decorators.py:36: FutureWarning: Pass the following variable as a keyword arg: x. From version 0.12, the only valid positional argument will be `data`, and passing other arguments without an explicit keyword will result in an error or misinterpretation.\n",
            "  warnings.warn(\n"
          ]
        },
        {
          "output_type": "execute_result",
          "data": {
            "text/plain": [
              "<matplotlib.axes._subplots.AxesSubplot at 0x7f2722104250>"
            ]
          },
          "metadata": {},
          "execution_count": 101
        },
        {
          "output_type": "display_data",
          "data": {
            "text/plain": [
              "<Figure size 432x288 with 1 Axes>"
            ],
            "image/png": "[encoded data removed]"
          },
          "metadata": {
            "needs_background": "light"
          }
        }
      ]
    },
    {
      "cell_type": "code",
      "source": [
        "plt.figure(figsize=(10,8))\n",
        "sns.countplot(x = fd.source, hue=fd.end_state)"
      ],
      "metadata": {
        "colab": {
          "base_uri": "https://localhost:8080/",
          "height": 514
        },
        "id": "agVqCOnxElSU",
        "outputId": "99badd00-2090-4090-83df-f013a2cd3a36"
      },
      "execution_count": 106,
      "outputs": [
        {
          "output_type": "execute_result",
          "data": {
            "text/plain": [
              "<matplotlib.axes._subplots.AxesSubplot at 0x7f2721d087f0>"
            ]
          },
          "metadata": {},
          "execution_count": 106
        },
        {
          "output_type": "display_data",
          "data": {
            "text/plain": [
              "<Figure size 720x576 with 1 Axes>"
            ],
            "image/png": "[encoded data removed]"
          },
          "metadata": {
            "needs_background": "light"
          }
        }
      ]
    },
    {
      "cell_type": "code",
      "source": [
        "dsc = fd.driver_score.value_counts(normalize=True).mul(100).round(2).reset_index()\\\n",
        "        .rename(columns = {'index' : 'driver_score', 'driver_score' : 'percentage'}).sort_values('driver_score')"
      ],
      "metadata": {
        "id": "nFFu_96lLr34"
      },
      "execution_count": 115,
      "outputs": []
    },
    {
      "cell_type": "code",
      "source": [
        "dsc"
      ],
      "metadata": {
        "colab": {
          "base_uri": "https://localhost:8080/",
          "height": 237
        },
        "id": "yvwVzb7aPmbZ",
        "outputId": "b52e4ddb-214d-4514-913d-bd80a4f9a4e5"
      },
      "execution_count": 116,
      "outputs": [
        {
          "output_type": "execute_result",
          "data": {
            "text/plain": [
              "   driver_score  percentage\n",
              "2           0.0       14.30\n",
              "4           1.0        1.23\n",
              "5           2.0        0.81\n",
              "3           3.0        2.97\n",
              "1           4.0       21.88\n",
              "0           5.0       58.81"
            ],
            "text/html": [
              "\n",
              "  <div id=\"df-6e6daeaf-6b93-4474-b3cb-c1653ff4fdff\">\n",
              "    <div class=\"colab-df-container\">\n",
              "      <div>\n",
              "<style scoped>\n",
              "    .dataframe tbody tr th:only-of-type {\n",
              "        vertical-align: middle;\n",
              "    }\n",
              "\n",
              "    .dataframe tbody tr th {\n",
              "        vertical-align: top;\n",
              "    }\n",
              "\n",
              "    .dataframe thead th {\n",
              "        text-align: right;\n",
              "    }\n",
              "</style>\n",
              "<table border=\"1\" class=\"dataframe\">\n",
              "  <thead>\n",
              "    <tr style=\"text-align: right;\">\n",
              "      <th></th>\n",
              "      <th>driver_score</th>\n",
              "      <th>percentage</th>\n",
              "    </tr>\n",
              "  </thead>\n",
              "  <tbody>\n",
              "    <tr>\n",
              "      <th>2</th>\n",
              "      <td>0.0</td>\n",
              "      <td>14.30</td>\n",
              "    </tr>\n",
              "    <tr>\n",
              "      <th>4</th>\n",
              "      <td>1.0</td>\n",
              "      <td>1.23</td>\n",
              "    </tr>\n",
              "    <tr>\n",
              "      <th>5</th>\n",
              "      <td>2.0</td>\n",
              "      <td>0.81</td>\n",
              "    </tr>\n",
              "    <tr>\n",
              "      <th>3</th>\n",
              "      <td>3.0</td>\n",
              "      <td>2.97</td>\n",
              "    </tr>\n",
              "    <tr>\n",
              "      <th>1</th>\n",
              "      <td>4.0</td>\n",
              "      <td>21.88</td>\n",
              "    </tr>\n",
              "    <tr>\n",
              "      <th>0</th>\n",
              "      <td>5.0</td>\n",
              "      <td>58.81</td>\n",
              "    </tr>\n",
              "  </tbody>\n",
              "</table>\n",
              "</div>\n",
              "      <button class=\"colab-df-convert\" onclick=\"convertToInteractive('df-6e6daeaf-6b93-4474-b3cb-c1653ff4fdff')\"\n",
              "              title=\"Convert this dataframe to an interactive table.\"\n",
              "              style=\"display:none;\">\n",
              "        \n",
              "  <svg xmlns=\"http://www.w3.org/2000/svg\" height=\"24px\"viewBox=\"0 0 24 24\"\n",
              "       width=\"24px\">\n",
              "    <path d=\"M0 0h24v24H0V0z\" fill=\"none\"/>\n",
              "    <path d=\"M18.56 5.44l.94 2.06.94-2.06 2.06-.94-2.06-.94-.94-2.06-.94 2.06-2.06.94zm-11 1L8.5 8.5l.94-2.06 2.06-.94-2.06-.94L8.5 2.5l-.94 2.06-2.06.94zm10 10l.94 2.06.94-2.06 2.06-.94-2.06-.94-.94-2.06-.94 2.06-2.06.94z\"/><path d=\"M17.41 7.96l-1.37-1.37c-.4-.4-.92-.59-1.43-.59-.52 0-1.04.2-1.43.59L10.3 9.45l-7.72 7.72c-.78.78-.78 2.05 0 2.83L4 21.41c.39.39.9.59 1.41.59.51 0 1.02-.2 1.41-.59l7.78-7.78 2.81-2.81c.8-.78.8-2.07 0-2.86zM5.41 20L4 18.59l7.72-7.72 1.47 1.35L5.41 20z\"/>\n",
              "  </svg>\n",
              "      </button>\n",
              "      \n",
              "  <style>\n",
              "    .colab-df-container {\n",
              "      display:flex;\n",
              "      flex-wrap:wrap;\n",
              "      gap: 12px;\n",
              "    }\n",
              "\n",
              "    .colab-df-convert {\n",
              "      background-color: #E8F0FE;\n",
              "      border: none;\n",
              "      border-radius: 50%;\n",
              "      cursor: pointer;\n",
              "      display: none;\n",
              "      fill: #1967D2;\n",
              "      height: 32px;\n",
              "      padding: 0 0 0 0;\n",
              "      width: 32px;\n",
              "    }\n",
              "\n",
              "    .colab-df-convert:hover {\n",
              "      background-color: #E2EBFA;\n",
              "      box-shadow: 0px 1px 2px rgba(60, 64, 67, 0.3), 0px 1px 3px 1px rgba(60, 64, 67, 0.15);\n",
              "      fill: #174EA6;\n",
              "    }\n",
              "\n",
              "    [theme=dark] .colab-df-convert {\n",
              "      background-color: #3B4455;\n",
              "      fill: #D2E3FC;\n",
              "    }\n",
              "\n",
              "    [theme=dark] .colab-df-convert:hover {\n",
              "      background-color: #434B5C;\n",
              "      box-shadow: 0px 1px 3px 1px rgba(0, 0, 0, 0.15);\n",
              "      filter: drop-shadow(0px 1px 2px rgba(0, 0, 0, 0.3));\n",
              "      fill: #FFFFFF;\n",
              "    }\n",
              "  </style>\n",
              "\n",
              "      <script>\n",
              "        const buttonEl =\n",
              "          document.querySelector('#df-6e6daeaf-6b93-4474-b3cb-c1653ff4fdff button.colab-df-convert');\n",
              "        buttonEl.style.display =\n",
              "          google.colab.kernel.accessAllowed ? 'block' : 'none';\n",
              "\n",
              "        async function convertToInteractive(key) {\n",
              "          const element = document.querySelector('#df-6e6daeaf-6b93-4474-b3cb-c1653ff4fdff');\n",
              "          const dataTable =\n",
              "            await google.colab.kernel.invokeFunction('convertToInteractive',\n",
              "                                                     [key], {});\n",
              "          if (!dataTable) return;\n",
              "\n",
              "          const docLinkHtml = 'Like what you see? Visit the ' +\n",
              "            '<a target=\"_blank\" href=https://colab.research.google.com/notebooks/data_table.ipynb>data table notebook</a>'\n",
              "            + ' to learn more about interactive tables.';\n",
              "          element.innerHTML = '';\n",
              "          dataTable['output_type'] = 'display_data';\n",
              "          await google.colab.output.renderOutput(dataTable, element);\n",
              "          const docLink = document.createElement('div');\n",
              "          docLink.innerHTML = docLinkHtml;\n",
              "          element.appendChild(docLink);\n",
              "        }\n",
              "      </script>\n",
              "    </div>\n",
              "  </div>\n",
              "  "
            ]
          },
          "metadata": {},
          "execution_count": 116
        }
      ]
    },
    {
      "cell_type": "code",
      "source": [
        "pl = sns.barplot(data = dsc, x = 'driver_score', y = 'percentage', color='red',alpha = 0.6)"
      ],
      "metadata": {
        "colab": {
          "base_uri": "https://localhost:8080/",
          "height": 280
        },
        "id": "7LDB1O6NSxgW",
        "outputId": "0da366bc-f1ed-4b95-edab-c79cd8ca6d4d"
      },
      "execution_count": 126,
      "outputs": [
        {
          "output_type": "display_data",
          "data": {
            "text/plain": [
              "<Figure size 432x288 with 1 Axes>"
            ],
            "image/png": "[encoded data removed]"
          },
          "metadata": {
            "needs_background": "light"
          }
        }
      ]
    }
  ]
}